{
 "cells": [
  {
   "cell_type": "code",
   "execution_count": 1,
   "metadata": {},
   "outputs": [ ... ],
   "source": [
    "import pandas as pd\n",
    "\n",
    "df = pd.read_csv('heart.csv')\n",
    "\n",
    "df.head()"
   ]
  }
 ],
 "metadata": { ... },
 "nbformat": 4,
 "nbformat_minor": 2
}
