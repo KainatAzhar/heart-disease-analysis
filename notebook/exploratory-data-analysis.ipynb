{
 "cells": [
  {
   "cell_type": "markdown",
   "metadata": {},
   "source": [
    "# Heart Disease Exploratory Data Analysis (EDA)\n",
    "\n",
    "This notebook covers the initial analysis of the UCI Heart Disease dataset."
   ]
  },
  {
   "cell_type": "markdown",
   "metadata": {},
   "source": [
    "## Step 0: Load Libraries and Data\n",
    "First, we import the necessary libraries and load the dataset into a pandas DataFrame."
   ]
  },
  {
   "cell_type": "code",
   "execution_count": null,
   "metadata": {},
   "outputs": [],
   "source": [
    "import pandas as pd\n",
    "import seaborn as sns\n",
    "import matplotlib.pyplot as plt\n",
    "\n",
    "# Load the dataset (assumes 'heart.csv' is in the same directory or data/)\n",
    "df = pd.read_csv('heart.csv')\n",
    "\n",
    "# Display the first 5 rows to confirm it's loaded correctly\n",
    "df.head()"
   ]
  },
  {
   "cell_type": "markdown",
   "metadata": {},
   "source": [
    "## Step 1: High-Level Overview\n",
    "\n",
    "This gives us the basic shape and technical summary of the dataset. It helps us understand the number of rows (patients), columns (features), and the data types of each column."
   ]
  },
  {
   "cell_type": "code",
   "execution_count": null,
   "metadata": {},
   "outputs": [],
   "source": [
    "# See the number of rows and columns\n",
    "print(\"Data Shape:\")\n",
    "print(df.shape)\n",
    "print(\"-\" * 30)\n",
    "\n",
    "# Get a technical summary (column names, non-null counts, data types)\n",
    "print(\"Data Info:\")\n",
    "df.info()"
   ]
  },
  {
   "cell_type": "markdown",
   "metadata": {},
   "source": [
    "## Step 2: Check for Missing Values\n",
    "\n",
    "This is one of the most important data quality checks. Missing data can cause errors or bias in our analysis and models."
   ]
  },
  {
   "cell_type": "code",
   "execution_count": null,
   "metadata": {},
   "outputs": [],
   "source": [
    "# Check for any missing values in each column\n",
    "print(\"Missing Values:\")\n",
    "print(df.isnull().sum())"
   ]
  },
  {
   "cell_type": "markdown",
   "metadata": {},
   "source": [
    "## Step 3: Get a Statistical Summary\n",
    "\n",
    "This provides a quick statistical overview of all numerical columns, including measures like mean, standard deviation, min, and max. It's useful for spotting outliers or potential data entry errors."
   ]
  },
  {
   "cell_type": "code",
   "execution_count": null,
   "metadata": {},
   "outputs": [],
   "source": [
    "# Get descriptive statistics (mean, std, min, max, etc.)\n",
    "df.describe()"
   ]
  },
  {
   "cell_type": "markdown",
   "metadata": {},
   "source": [
    "## Step 4: Visualize the Outcome\n",
    "\n",
    "We visualize the distribution of our target variable (`target`) to see how many patients in the dataset have heart disease versus those who don't. This helps us check for class imbalance."
   ]
  },
  {
   "cell_type": "code",
   "execution_count": null,
   "metadata": {},
   "outputs": [],
   "source": [
    "# Create a plot to see the distribution of the target variable\n",
    "sns.countplot(x='target', data=df)\n",
    "plt.title('Distribution of Heart Disease Outcome')\n",
    "plt.xlabel('0 = No Heart Disease, 1 = Has Heart Disease')\n",
    "plt.ylabel('Patient Count')\n",
    "plt.show()"
   ]
  }
 ],
 "metadata": {
  "kernelspec": {
   "display_name": "Python 3 (ipykernel)",
   "language": "python",
   "name": "python3"
  },
  "language_info": {
   "codemirror_mode": {
    "name": "ipython",
    "version": 3
   },
   "file_extension": ".py",
   "mimetype": "text/x-python",
   "name": "python",
   "nbconvert_exporter": "python",
   "pygments_lexer": "ipython3",
   "version": "3.9.7"
  }
 },
 "nbformat": 4,
 "nbformat_minor": 4
}
